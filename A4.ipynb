{
 "cells": [
  {
   "cell_type": "markdown",
   "id": "57e974ac-9e52-41c1-9d25-7e9c935e653d",
   "metadata": {},
   "source": [
    "# Motivation and problem statement: \n",
    "I plan to do a human data interaction project to understand how education statistics (EdStats) differ around the world. \n",
    "\n",
    "While education has been an important cultural component for many countries to equip the younger generations with knowledge and skills to learn and adapt in the world, the access and progression to education are different. It is crucial to critically examine the differences and consider factors that cause or are associated with such differences. \n",
    "\n",
    "By working on this data science project, I hope to learn to think critically and reflect ethically on issues and challenges around global education and utilize the skills I have learned in this course to interpret the findings from my data analysis to highlight interesting, concerning, and/or confusing patterns I have discovered in the data.\n",
    "\n",
    "My preliminary guiding research questions are: what EdStats indicators are the most diverse around the globe and what possibly cause those gaps? What can the public and the governments do to fill those gaps?\n",
    "\n",
    "# Data selected for analysis: \n",
    "I plan to use the dataset called “Global Education Statistics\", which contains more than 4,000 indicators comparing education statistics including literacy, population, and expenditures among different countries. I choose to work on this dataset because 1) it is provided by [Word Bank Group](https://www.worldbank.org/en/home), an international financial organization with high authority; 2) the coverage of data can be traced back to the 1970s, and the quarterly update frequency has been consistent; 3) the 4,000+ indicators holds data from international and regional learning assessments, equity data from household surveys, data from educational attainment projections, and much more, which cover the full educational cycle from pre-elementary to vocational education.\n",
    "- Published data: https://datacatalog.worldbank.org/dataset/education-statistics\n",
    "- API: https://datahelpdesk.worldbank.org/knowledgebase/topics/125589\n",
    "- Databank: https://databank.worldbank.org/reports.aspx?source=education-statistics-~-all-indicators\n",
    "- License: https://datacatalog.worldbank.org/public-licenses#cc-by \n",
    "- Term of use: This dataset is classified as Public under the Access to Information Classification Policy. Users inside and outside the World Bank organization can access this dataset.\n",
    "\n",
    "This dataset is suitable for my research goal because it is a big data —— not only is it a long dataset but it is also a wide one. By understanding the global educational gaps, I aim to highlight some human-centered educational challenges and raise public awareness on those topics. \n",
    "\n",
    "Some ethical considerations include: 1) before data analysis, there may exist sampling biases and other types of biases in the original dataset that could skew the results; 2) when performing data analysis, my choices of data wrangling matter (e.g., what columns to keep and rows to delete), which I need to explain clearly of any decisions I will be making; 3) after performing data analysis, I am not familiar of the history and culture of most of the countries, therefore resulting in misunderstanding and misinterpretation of certain patterns and trends in the data. \n",
    "\n",
    "# Unknowns and dependencies: \n",
    "Technical unknowns include: 1) the dataset may be updated during the time of my analysis and before my final submission, which could result in inconsistencies between my presentation and the new dataset; 2) though unlikely, the link to access the dataset may become invalid or inaccessible at any time. \n",
    "\n",
    "I have to also be mindful of the time constraints. Dealing with such a big dataset, I need to carefully plan the scope of my analysis and focus on specific research directions and questions, so the findings and results presentation will not be vague or too lengthy."
   ]
  }
 ],
 "metadata": {
  "kernelspec": {
   "display_name": "Python 3",
   "language": "python",
   "name": "python3"
  },
  "language_info": {
   "codemirror_mode": {
    "name": "ipython",
    "version": 3
   },
   "file_extension": ".py",
   "mimetype": "text/x-python",
   "name": "python",
   "nbconvert_exporter": "python",
   "pygments_lexer": "ipython3",
   "version": "3.8.8"
  }
 },
 "nbformat": 4,
 "nbformat_minor": 5
}
