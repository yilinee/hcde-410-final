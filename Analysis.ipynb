{
 "cells": [
  {
   "cell_type": "code",
   "execution_count": 31,
   "id": "f937b63b-be17-49b6-9cc3-35cf7bd423d8",
   "metadata": {},
   "outputs": [],
   "source": [
    "import json\n",
    "import pandas as pd\n",
    "import numpy as np\n",
    "# import time\n",
    "# from datetime import datetime\n",
    "import seaborn as sns\n",
    "import plotly.express as px\n",
    "import plotly as plt\n",
    "# from sklearn.linear_model import LinearRegression\n",
    "# import matplotlib.pyplot as plt\n",
    "# import statsmodels.api as sm\n",
    "# import statsmodels.formula.api as smf\n",
    "# from scipy.stats import pearsonr\n",
    "# from statsmodels.graphics.regressionplots import abline_plot\n",
    "# from statsmodels.sandbox.regression.predstd import wls_prediction_std"
   ]
  },
  {
   "cell_type": "code",
   "execution_count": 18,
   "id": "b43319a6-c4eb-4c4f-8baa-6574e05043dc",
   "metadata": {},
   "outputs": [],
   "source": [
    "# load dataframe from panda\n",
    "df = pd.read_csv(\"./Data/EdStatsData.csv\", usecols = ['Country Name', 'Country Code', \n",
    "                                                      'Indicator Name','2000', '2001', '2002',\n",
    "                                                      '2003', '2004', '2005', '2006', '2007',\n",
    "                                                     '2008', '2009', '2010', '2011', '2012',\n",
    "                                                     '2013', '2014'])"
   ]
  },
  {
   "cell_type": "code",
   "execution_count": 19,
   "id": "cb226f33-64f5-49df-9d0d-d532e10d7caf",
   "metadata": {},
   "outputs": [],
   "source": [
    "dfn = df[df['Indicator Name'].str.contains(\"pre-primary\")]"
   ]
  },
  {
   "cell_type": "code",
   "execution_count": 20,
   "id": "2460138d-c618-4af8-97f6-88d7b9b1bc49",
   "metadata": {},
   "outputs": [
    {
     "name": "stdout",
     "output_type": "stream",
     "text": [
      "['All staff compensation as % of total expenditure in pre-primary public institutions (%)'\n",
      " 'Capital expenditure as % of total expenditure in pre-primary public institutions (%)'\n",
      " 'Current expenditure as % of total expenditure in pre-primary public institutions (%)'\n",
      " 'Current expenditure other than staff compensation as % of total expenditure in pre-primary public institutions (%)'\n",
      " 'Enrolment in pre-primary education, both sexes (number)'\n",
      " 'Enrolment in pre-primary education, female (number)'\n",
      " 'Enrolment in pre-primary education, private institutions, both sexes (number)'\n",
      " 'Enrolment in pre-primary education, private institutions, female (number)'\n",
      " 'Enrolment in pre-primary education, public institutions, both sexes (number)'\n",
      " 'Enrolment in pre-primary education, public institutions, female (number)'\n",
      " 'Expenditure on pre-primary as % of government expenditure on education (%)'\n",
      " 'Expenditure on pre-primary as % of total government expenditure (%)'\n",
      " 'Government expenditure in pre-primary institutions as % of GDP (%)'\n",
      " 'Government expenditure on pre-primary education as % of GDP (%)'\n",
      " 'Gross enrolment ratio, pre-primary, both sexes (%)'\n",
      " 'Gross enrolment ratio, pre-primary, female (%)'\n",
      " 'Gross enrolment ratio, pre-primary, gender parity index (GPI)'\n",
      " 'Gross enrolment ratio, pre-primary, male (%)'\n",
      " 'Net enrolment rate, pre-primary, both sexes (%)'\n",
      " 'Net enrolment rate, pre-primary, female (%)'\n",
      " 'Net enrolment rate, pre-primary, gender parity index (GPI)'\n",
      " 'Net enrolment rate, pre-primary, male (%)'\n",
      " 'Official entrance age to pre-primary education (years)'\n",
      " 'Out-of-school children of primary school age in pre-primary education, both sexes (number)'\n",
      " 'Out-of-school children of primary school age in pre-primary education, female (number)'\n",
      " 'Out-of-school children of primary school age in pre-primary education, male (number)'\n",
      " 'PASEC: Average performance gap between 2nd grade students who attended/did not attend pre-primary education. Language'\n",
      " 'PASEC: Average performance gap between 2nd grade students who attended/did not attend pre-primary education. Mathematics'\n",
      " 'PASEC: Average performance gap between 6th grade students who attended/did not attend pre-primary education. Mathematics'\n",
      " 'PASEC: Average performance gap between 6th grade students who attended/did not attend pre-primary education. Reading'\n",
      " 'PASEC: Mean performance on the language scale for 2nd grade students who attended pre-primary education'\n",
      " 'PASEC: Mean performance on the language scale for 2nd grade students who did not attend pre-primary education'\n",
      " 'PASEC: Mean performance on the mathematics scale for 2nd grade students who attended pre-primary education'\n",
      " 'PASEC: Mean performance on the mathematics scale for 2nd grade students who did not attend pre-primary education'\n",
      " 'PASEC: Mean performance on the mathematics scale for 6th grade students who attended pre-primary education'\n",
      " 'PASEC: Mean performance on the mathematics scale for 6th grade students who did not attend pre-primary education'\n",
      " 'PASEC: Mean performance on the reading scale for 6th grade students who attended pre-primary education'\n",
      " 'PASEC: Mean performance on the reading scale for 6th grade students who did not attend pre-primary education'\n",
      " 'Percentage of enrolment in pre-primary education in private institutions (%)'\n",
      " 'Percentage of female teachers in pre-primary education who are trained, female (%)'\n",
      " 'Percentage of male teachers in pre-primary education who are trained, male (%)'\n",
      " 'Percentage of students in pre-primary education who are female (%)'\n",
      " 'Percentage of teachers in pre-primary education who are female (%)'\n",
      " 'Percentage of teachers in pre-primary education who are qualified, both sexes (%)'\n",
      " 'Percentage of teachers in pre-primary education who are trained, both sexes (%)'\n",
      " 'Percentage of teachers in pre-primary education who are trained, gender parity index (GPI)'\n",
      " 'Population of the official age for pre-primary education, both sexes (number)'\n",
      " 'Population of the official age for pre-primary education, female (number)'\n",
      " 'Population of the official age for pre-primary education, male (number)'\n",
      " 'Pupil/qualified teacher ratio in pre-primary education (headcount basis)'\n",
      " 'Pupil/trained teacher ratio in pre-primary education (headcount basis)'\n",
      " 'Pupil-teacher ratio in pre-primary education (headcount basis)'\n",
      " 'Rate of out-of-school children of primary school age in pre-primary education, both sexes (%)'\n",
      " 'Rate of out-of-school children of primary school age in pre-primary education, female (%)'\n",
      " 'Rate of out-of-school children of primary school age in pre-primary education, male (%)'\n",
      " 'School life expectancy, pre-primary, both sexes (years)'\n",
      " 'School life expectancy, pre-primary, female (years)'\n",
      " 'School life expectancy, pre-primary, gender parity index (GPI)'\n",
      " 'School life expectancy, pre-primary, male (years)'\n",
      " 'Teachers in pre-primary education, both sexes (number)'\n",
      " 'Teachers in pre-primary education, female (number)'\n",
      " 'Theoretical duration of pre-primary education (years)']\n"
     ]
    }
   ],
   "source": [
    "print(dfn['Indicator Name'].unique ())"
   ]
  },
  {
   "cell_type": "code",
   "execution_count": 21,
   "id": "d22e2db0-7fb1-4ff6-808a-f062e87e5b9b",
   "metadata": {},
   "outputs": [],
   "source": [
    "dfns = dfn[dfn['Indicator Name'].str.contains(\"Gross enrolment ratio, pre-primary, both sexes\")]"
   ]
  },
  {
   "cell_type": "code",
   "execution_count": 25,
   "id": "b4b2a661-1a69-4517-92f4-84515fa7fffb",
   "metadata": {},
   "outputs": [],
   "source": [
    "dfns_nona = dfns[dfns['2014'].notnull()]"
   ]
  },
  {
   "cell_type": "code",
   "execution_count": 32,
   "id": "0a97f6c0-fe58-4b7f-a697-95fcd86909c1",
   "metadata": {},
   "outputs": [
    {
     "data": {
      "application/vnd.plotly.v1+json": {
       "config": {
        "plotlyServerURL": "https://plot.ly"
       },
       "data": [
        {
         "geo": "geo",
         "hovertemplate": "<b>%{hovertext}</b><br><br>2014=%{marker.size}<br>Country Code=%{location}<extra></extra>",
         "hovertext": [
          "Arab World",
          "East Asia & Pacific",
          "East Asia & Pacific (excluding high income)",
          "Euro area",
          "Europe & Central Asia",
          "Europe & Central Asia (excluding high income)",
          "European Union",
          "Heavily indebted poor countries (HIPC)",
          "High income",
          "Latin America & Caribbean",
          "Latin America & Caribbean (excluding high income)",
          "Least developed countries: UN classification",
          "Low & middle income",
          "Low income",
          "Lower middle income",
          "Middle East & North Africa",
          "Middle East & North Africa (excluding high income)",
          "Middle income",
          "North America",
          "OECD members",
          "South Asia",
          "Sub-Saharan Africa",
          "Sub-Saharan Africa (excluding high income)",
          "Upper middle income",
          "World",
          "Albania",
          "Antigua and Barbuda",
          "Argentina",
          "Armenia",
          "Aruba",
          "Australia",
          "Austria",
          "Azerbaijan",
          "Bahrain",
          "Barbados",
          "Belarus",
          "Belgium",
          "Belize",
          "Benin",
          "Bermuda",
          "Bhutan",
          "Bolivia",
          "Brazil",
          "British Virgin Islands",
          "Brunei Darussalam",
          "Bulgaria",
          "Burkina Faso",
          "Burundi",
          "Cabo Verde",
          "Cambodia",
          "Cameroon",
          "Chile",
          "China",
          "Comoros",
          "Congo, Dem. Rep.",
          "Costa Rica",
          "Cote d'Ivoire",
          "Croatia",
          "Cuba",
          "Cyprus",
          "Czech Republic",
          "Denmark",
          "Dominica",
          "Dominican Republic",
          "Ecuador",
          "Egypt, Arab Rep.",
          "El Salvador",
          "Eritrea",
          "Ethiopia",
          "Finland",
          "France",
          "Gambia, The",
          "Germany",
          "Ghana",
          "Greece",
          "Grenada",
          "Guatemala",
          "Honduras",
          "Hungary",
          "India",
          "Indonesia",
          "Iran, Islamic Rep.",
          "Ireland",
          "Israel",
          "Italy",
          "Jamaica",
          "Japan",
          "Jordan",
          "Kazakhstan",
          "Kenya",
          "Korea, Rep.",
          "Kyrgyz Republic",
          "Lao PDR",
          "Latvia",
          "Lebanon",
          "Lesotho",
          "Liberia",
          "Liechtenstein",
          "Lithuania",
          "Luxembourg",
          "Macao SAR, China",
          "Macedonia, FYR",
          "Madagascar",
          "Malaysia",
          "Mali",
          "Malta",
          "Mauritania",
          "Mauritius",
          "Mexico",
          "Moldova",
          "Morocco",
          "Myanmar",
          "Nauru",
          "Nepal",
          "Netherlands",
          "New Zealand",
          "Niger",
          "Norway",
          "Oman",
          "Pakistan",
          "Palau",
          "Panama",
          "Peru",
          "Poland",
          "Portugal",
          "Qatar",
          "Romania",
          "Russian Federation",
          "Rwanda",
          "Samoa",
          "Sao Tome and Principe",
          "Saudi Arabia",
          "Senegal",
          "Serbia",
          "Seychelles",
          "Slovak Republic",
          "Slovenia",
          "Solomon Islands",
          "South Africa",
          "Spain",
          "Sri Lanka",
          "St. Kitts and Nevis",
          "St. Lucia",
          "St. Vincent and the Grenadines",
          "Suriname",
          "Sweden",
          "Switzerland",
          "Tanzania",
          "Thailand",
          "Timor-Leste",
          "Togo",
          "Tonga",
          "Tunisia",
          "Turkey",
          "Turkmenistan",
          "Tuvalu",
          "Uganda",
          "United Arab Emirates",
          "United Kingdom",
          "United States",
          "Uruguay",
          "Uzbekistan",
          "Venezuela, RB",
          "Vietnam",
          "West Bank and Gaza"
         ],
         "legendgroup": "",
         "locations": [
          "ARB",
          "EAS",
          "EAP",
          "EMU",
          "ECS",
          "ECA",
          "EUU",
          "HPC",
          "HIC",
          "LCN",
          "LAC",
          "LDC",
          "LMY",
          "LIC",
          "LMC",
          "MEA",
          "MNA",
          "MIC",
          "NAC",
          "OED",
          "SAS",
          "SSF",
          "SSA",
          "UMC",
          "WLD",
          "ALB",
          "ATG",
          "ARG",
          "ARM",
          "ABW",
          "AUS",
          "AUT",
          "AZE",
          "BHR",
          "BRB",
          "BLR",
          "BEL",
          "BLZ",
          "BEN",
          "BMU",
          "BTN",
          "BOL",
          "BRA",
          "VGB",
          "BRN",
          "BGR",
          "BFA",
          "BDI",
          "CPV",
          "KHM",
          "CMR",
          "CHL",
          "CHN",
          "COM",
          "COD",
          "CRI",
          "CIV",
          "HRV",
          "CUB",
          "CYP",
          "CZE",
          "DNK",
          "DMA",
          "DOM",
          "ECU",
          "EGY",
          "SLV",
          "ERI",
          "ETH",
          "FIN",
          "FRA",
          "GMB",
          "DEU",
          "GHA",
          "GRC",
          "GRD",
          "GTM",
          "HND",
          "HUN",
          "IND",
          "IDN",
          "IRN",
          "IRL",
          "ISR",
          "ITA",
          "JAM",
          "JPN",
          "JOR",
          "KAZ",
          "KEN",
          "KOR",
          "KGZ",
          "LAO",
          "LVA",
          "LBN",
          "LSO",
          "LBR",
          "LIE",
          "LTU",
          "LUX",
          "MAC",
          "MKD",
          "MDG",
          "MYS",
          "MLI",
          "MLT",
          "MRT",
          "MUS",
          "MEX",
          "MDA",
          "MAR",
          "MMR",
          "NRU",
          "NPL",
          "NLD",
          "NZL",
          "NER",
          "NOR",
          "OMN",
          "PAK",
          "PLW",
          "PAN",
          "PER",
          "POL",
          "PRT",
          "QAT",
          "ROU",
          "RUS",
          "RWA",
          "WSM",
          "STP",
          "SAU",
          "SEN",
          "SRB",
          "SYC",
          "SVK",
          "SVN",
          "SLB",
          "ZAF",
          "ESP",
          "LKA",
          "KNA",
          "LCA",
          "VCT",
          "SUR",
          "SWE",
          "CHE",
          "TZA",
          "THA",
          "TLS",
          "TGO",
          "TON",
          "TUN",
          "TUR",
          "TKM",
          "TUV",
          "UGA",
          "ARE",
          "GBR",
          "USA",
          "URY",
          "UZB",
          "VEN",
          "VNM",
          "PSE"
         ],
         "marker": {
          "color": "#636efa",
          "size": [
           25.5021495819092,
           76.1009292602539,
           74.9274673461914,
           102.695411682129,
           74.5747604370117,
           56.1332015991211,
           96.5539093017578,
           17.9965705871582,
           82.71484375,
           72.9861831665039,
           71.9881591796875,
           18.6371994018555,
           39.3665313720703,
           19.8593101501465,
           31.588020324707,
           29.8726997375488,
           27.5249290466309,
           48.1221084594727,
           71.6167907714844,
           79.3217697143555,
           18.1585903167725,
           21.8759498596191,
           21.8731307983398,
           74.3315582275391,
           47.6476287841797,
           88.558349609375,
           75.2154388427734,
           72.7539367675781,
           49.4239311218262,
           107.290077209473,
           114.077041625977,
           101.721908569336,
           23.1055393218994,
           57.0258712768555,
           84.2060699462891,
           105.042762756348,
           117.894996643066,
           50.2411308288574,
           20.6049404144287,
           54.2582397460938,
           17.0473499298096,
           67.5790634155273,
           89.1245269775391,
           88.6567230224609,
           73.538948059082,
           83.01318359375,
           4.17162990570068,
           10.2768697738647,
           70.3051071166992,
           17.6020908355713,
           34.438549041748,
           85.6071090698242,
           81.6109085083008,
           20.5025997161865,
           4.1737699508667,
           52.9674491882324,
           6.55379009246826,
           61.4360313415527,
           98.0667114257813,
           77.1095809936523,
           104.818748474121,
           96.4470520019531,
           84.8765411376953,
           43.6002998352051,
           62.5482597351074,
           30.3224792480469,
           71.6827697753906,
           14.4669198989868,
           25.2382202148438,
           79.7871704101563,
           108.806732177734,
           38.315788269043,
           110.875198364258,
           115.103607177734,
           49.1059913635254,
           91.1764678955078,
           43.7111282348633,
           47.1066207885742,
           83.9784622192383,
           11.7343502044678,
           58.1559600830078,
           42.396598815918,
           106.676139831543,
           110.680152893066,
           99.0154800415039,
           93.0033874511719,
           89.2526779174805,
           32.7994384765625,
           57.2190895080566,
           73.7990417480469,
           92.8232803344727,
           25.3262100219727,
           32.357479095459,
           90.9292526245117,
           94.8794631958008,
           31.1657199859619,
           157.901062011719,
           105.686546325684,
           88.2476425170898,
           93.8097381591797,
           92.1885833740234,
           34.4358215332031,
           13.8944997787476,
           91.0352478027344,
           3.94713997840881,
           108.367790222168,
           3.31641006469727,
           102.228248596191,
           68.9582595825195,
           83.755012512207,
           59.1820983886719,
           23.459939956665,
           90.1864624023438,
           85.7584762573242,
           94.8525009155273,
           91.8198318481445,
           7.12271976470947,
           98.2005386352539,
           54.4075088500977,
           70.2363586425781,
           74,
           48.2903099060059,
           87.5540771484375,
           79.1850204467773,
           91.8200073242188,
           56.1875991821289,
           90.4568786621094,
           83.8059005737305,
           15.6980600357056,
           36.8708000183105,
           42.3095512390137,
           16.3314094543457,
           14.7231397628784,
           59.1646881103516,
           93.030403137207,
           92.097526550293,
           93.4189300537109,
           97.9016189575195,
           77.3684921264648,
           98.0481414794922,
           93.6062622070313,
           94.1636276245117,
           64.7532196044922,
           68.8653564453125,
           93.6629104614258,
           95.6704864501953,
           105.105079650879,
           32.0149192810059,
           72.7883834838867,
           17.0231094360352,
           15.0401401519775,
           38.5375900268555,
           42.8046417236328,
           26.8257808685303,
           62.854419708252,
           93.0348281860352,
           10.8154802322388,
           91.9576721191406,
           88.2227096557617,
           71.489990234375,
           88.4339599609375,
           24.7966499328613,
           73.0883712768555,
           81.3544769287109,
           50.652229309082
          ],
          "sizemode": "area",
          "sizeref": 0.3947526550292975,
          "symbol": "circle"
         },
         "mode": "markers",
         "name": "",
         "showlegend": false,
         "type": "scattergeo"
        }
       ],
       "layout": {
        "autosize": true,
        "geo": {
         "center": {},
         "domain": {
          "x": [
           0,
           1
          ],
          "y": [
           0,
           1
          ]
         },
         "projection": {
          "type": "natural earth"
         }
        },
        "legend": {
         "itemsizing": "constant",
         "tracegroupgap": 0
        },
        "template": {
         "data": {
          "bar": [
           {
            "error_x": {
             "color": "#2a3f5f"
            },
            "error_y": {
             "color": "#2a3f5f"
            },
            "marker": {
             "line": {
              "color": "#E5ECF6",
              "width": 0.5
             }
            },
            "type": "bar"
           }
          ],
          "barpolar": [
           {
            "marker": {
             "line": {
              "color": "#E5ECF6",
              "width": 0.5
             }
            },
            "type": "barpolar"
           }
          ],
          "carpet": [
           {
            "aaxis": {
             "endlinecolor": "#2a3f5f",
             "gridcolor": "white",
             "linecolor": "white",
             "minorgridcolor": "white",
             "startlinecolor": "#2a3f5f"
            },
            "baxis": {
             "endlinecolor": "#2a3f5f",
             "gridcolor": "white",
             "linecolor": "white",
             "minorgridcolor": "white",
             "startlinecolor": "#2a3f5f"
            },
            "type": "carpet"
           }
          ],
          "choropleth": [
           {
            "colorbar": {
             "outlinewidth": 0,
             "ticks": ""
            },
            "type": "choropleth"
           }
          ],
          "contour": [
           {
            "colorbar": {
             "outlinewidth": 0,
             "ticks": ""
            },
            "colorscale": [
             [
              0,
              "#0d0887"
             ],
             [
              0.1111111111111111,
              "#46039f"
             ],
             [
              0.2222222222222222,
              "#7201a8"
             ],
             [
              0.3333333333333333,
              "#9c179e"
             ],
             [
              0.4444444444444444,
              "#bd3786"
             ],
             [
              0.5555555555555556,
              "#d8576b"
             ],
             [
              0.6666666666666666,
              "#ed7953"
             ],
             [
              0.7777777777777778,
              "#fb9f3a"
             ],
             [
              0.8888888888888888,
              "#fdca26"
             ],
             [
              1,
              "#f0f921"
             ]
            ],
            "type": "contour"
           }
          ],
          "contourcarpet": [
           {
            "colorbar": {
             "outlinewidth": 0,
             "ticks": ""
            },
            "type": "contourcarpet"
           }
          ],
          "heatmap": [
           {
            "colorbar": {
             "outlinewidth": 0,
             "ticks": ""
            },
            "colorscale": [
             [
              0,
              "#0d0887"
             ],
             [
              0.1111111111111111,
              "#46039f"
             ],
             [
              0.2222222222222222,
              "#7201a8"
             ],
             [
              0.3333333333333333,
              "#9c179e"
             ],
             [
              0.4444444444444444,
              "#bd3786"
             ],
             [
              0.5555555555555556,
              "#d8576b"
             ],
             [
              0.6666666666666666,
              "#ed7953"
             ],
             [
              0.7777777777777778,
              "#fb9f3a"
             ],
             [
              0.8888888888888888,
              "#fdca26"
             ],
             [
              1,
              "#f0f921"
             ]
            ],
            "type": "heatmap"
           }
          ],
          "heatmapgl": [
           {
            "colorbar": {
             "outlinewidth": 0,
             "ticks": ""
            },
            "colorscale": [
             [
              0,
              "#0d0887"
             ],
             [
              0.1111111111111111,
              "#46039f"
             ],
             [
              0.2222222222222222,
              "#7201a8"
             ],
             [
              0.3333333333333333,
              "#9c179e"
             ],
             [
              0.4444444444444444,
              "#bd3786"
             ],
             [
              0.5555555555555556,
              "#d8576b"
             ],
             [
              0.6666666666666666,
              "#ed7953"
             ],
             [
              0.7777777777777778,
              "#fb9f3a"
             ],
             [
              0.8888888888888888,
              "#fdca26"
             ],
             [
              1,
              "#f0f921"
             ]
            ],
            "type": "heatmapgl"
           }
          ],
          "histogram": [
           {
            "marker": {
             "colorbar": {
              "outlinewidth": 0,
              "ticks": ""
             }
            },
            "type": "histogram"
           }
          ],
          "histogram2d": [
           {
            "colorbar": {
             "outlinewidth": 0,
             "ticks": ""
            },
            "colorscale": [
             [
              0,
              "#0d0887"
             ],
             [
              0.1111111111111111,
              "#46039f"
             ],
             [
              0.2222222222222222,
              "#7201a8"
             ],
             [
              0.3333333333333333,
              "#9c179e"
             ],
             [
              0.4444444444444444,
              "#bd3786"
             ],
             [
              0.5555555555555556,
              "#d8576b"
             ],
             [
              0.6666666666666666,
              "#ed7953"
             ],
             [
              0.7777777777777778,
              "#fb9f3a"
             ],
             [
              0.8888888888888888,
              "#fdca26"
             ],
             [
              1,
              "#f0f921"
             ]
            ],
            "type": "histogram2d"
           }
          ],
          "histogram2dcontour": [
           {
            "colorbar": {
             "outlinewidth": 0,
             "ticks": ""
            },
            "colorscale": [
             [
              0,
              "#0d0887"
             ],
             [
              0.1111111111111111,
              "#46039f"
             ],
             [
              0.2222222222222222,
              "#7201a8"
             ],
             [
              0.3333333333333333,
              "#9c179e"
             ],
             [
              0.4444444444444444,
              "#bd3786"
             ],
             [
              0.5555555555555556,
              "#d8576b"
             ],
             [
              0.6666666666666666,
              "#ed7953"
             ],
             [
              0.7777777777777778,
              "#fb9f3a"
             ],
             [
              0.8888888888888888,
              "#fdca26"
             ],
             [
              1,
              "#f0f921"
             ]
            ],
            "type": "histogram2dcontour"
           }
          ],
          "mesh3d": [
           {
            "colorbar": {
             "outlinewidth": 0,
             "ticks": ""
            },
            "type": "mesh3d"
           }
          ],
          "parcoords": [
           {
            "line": {
             "colorbar": {
              "outlinewidth": 0,
              "ticks": ""
             }
            },
            "type": "parcoords"
           }
          ],
          "pie": [
           {
            "automargin": true,
            "type": "pie"
           }
          ],
          "scatter": [
           {
            "marker": {
             "colorbar": {
              "outlinewidth": 0,
              "ticks": ""
             }
            },
            "type": "scatter"
           }
          ],
          "scatter3d": [
           {
            "line": {
             "colorbar": {
              "outlinewidth": 0,
              "ticks": ""
             }
            },
            "marker": {
             "colorbar": {
              "outlinewidth": 0,
              "ticks": ""
             }
            },
            "type": "scatter3d"
           }
          ],
          "scattercarpet": [
           {
            "marker": {
             "colorbar": {
              "outlinewidth": 0,
              "ticks": ""
             }
            },
            "type": "scattercarpet"
           }
          ],
          "scattergeo": [
           {
            "marker": {
             "colorbar": {
              "outlinewidth": 0,
              "ticks": ""
             }
            },
            "type": "scattergeo"
           }
          ],
          "scattergl": [
           {
            "marker": {
             "colorbar": {
              "outlinewidth": 0,
              "ticks": ""
             }
            },
            "type": "scattergl"
           }
          ],
          "scattermapbox": [
           {
            "marker": {
             "colorbar": {
              "outlinewidth": 0,
              "ticks": ""
             }
            },
            "type": "scattermapbox"
           }
          ],
          "scatterpolar": [
           {
            "marker": {
             "colorbar": {
              "outlinewidth": 0,
              "ticks": ""
             }
            },
            "type": "scatterpolar"
           }
          ],
          "scatterpolargl": [
           {
            "marker": {
             "colorbar": {
              "outlinewidth": 0,
              "ticks": ""
             }
            },
            "type": "scatterpolargl"
           }
          ],
          "scatterternary": [
           {
            "marker": {
             "colorbar": {
              "outlinewidth": 0,
              "ticks": ""
             }
            },
            "type": "scatterternary"
           }
          ],
          "surface": [
           {
            "colorbar": {
             "outlinewidth": 0,
             "ticks": ""
            },
            "colorscale": [
             [
              0,
              "#0d0887"
             ],
             [
              0.1111111111111111,
              "#46039f"
             ],
             [
              0.2222222222222222,
              "#7201a8"
             ],
             [
              0.3333333333333333,
              "#9c179e"
             ],
             [
              0.4444444444444444,
              "#bd3786"
             ],
             [
              0.5555555555555556,
              "#d8576b"
             ],
             [
              0.6666666666666666,
              "#ed7953"
             ],
             [
              0.7777777777777778,
              "#fb9f3a"
             ],
             [
              0.8888888888888888,
              "#fdca26"
             ],
             [
              1,
              "#f0f921"
             ]
            ],
            "type": "surface"
           }
          ],
          "table": [
           {
            "cells": {
             "fill": {
              "color": "#EBF0F8"
             },
             "line": {
              "color": "white"
             }
            },
            "header": {
             "fill": {
              "color": "#C8D4E3"
             },
             "line": {
              "color": "white"
             }
            },
            "type": "table"
           }
          ]
         },
         "layout": {
          "annotationdefaults": {
           "arrowcolor": "#2a3f5f",
           "arrowhead": 0,
           "arrowwidth": 1
          },
          "autotypenumbers": "strict",
          "coloraxis": {
           "colorbar": {
            "outlinewidth": 0,
            "ticks": ""
           }
          },
          "colorscale": {
           "diverging": [
            [
             0,
             "#8e0152"
            ],
            [
             0.1,
             "#c51b7d"
            ],
            [
             0.2,
             "#de77ae"
            ],
            [
             0.3,
             "#f1b6da"
            ],
            [
             0.4,
             "#fde0ef"
            ],
            [
             0.5,
             "#f7f7f7"
            ],
            [
             0.6,
             "#e6f5d0"
            ],
            [
             0.7,
             "#b8e186"
            ],
            [
             0.8,
             "#7fbc41"
            ],
            [
             0.9,
             "#4d9221"
            ],
            [
             1,
             "#276419"
            ]
           ],
           "sequential": [
            [
             0,
             "#0d0887"
            ],
            [
             0.1111111111111111,
             "#46039f"
            ],
            [
             0.2222222222222222,
             "#7201a8"
            ],
            [
             0.3333333333333333,
             "#9c179e"
            ],
            [
             0.4444444444444444,
             "#bd3786"
            ],
            [
             0.5555555555555556,
             "#d8576b"
            ],
            [
             0.6666666666666666,
             "#ed7953"
            ],
            [
             0.7777777777777778,
             "#fb9f3a"
            ],
            [
             0.8888888888888888,
             "#fdca26"
            ],
            [
             1,
             "#f0f921"
            ]
           ],
           "sequentialminus": [
            [
             0,
             "#0d0887"
            ],
            [
             0.1111111111111111,
             "#46039f"
            ],
            [
             0.2222222222222222,
             "#7201a8"
            ],
            [
             0.3333333333333333,
             "#9c179e"
            ],
            [
             0.4444444444444444,
             "#bd3786"
            ],
            [
             0.5555555555555556,
             "#d8576b"
            ],
            [
             0.6666666666666666,
             "#ed7953"
            ],
            [
             0.7777777777777778,
             "#fb9f3a"
            ],
            [
             0.8888888888888888,
             "#fdca26"
            ],
            [
             1,
             "#f0f921"
            ]
           ]
          },
          "colorway": [
           "#636efa",
           "#EF553B",
           "#00cc96",
           "#ab63fa",
           "#FFA15A",
           "#19d3f3",
           "#FF6692",
           "#B6E880",
           "#FF97FF",
           "#FECB52"
          ],
          "font": {
           "color": "#2a3f5f"
          },
          "geo": {
           "bgcolor": "white",
           "lakecolor": "white",
           "landcolor": "#E5ECF6",
           "showlakes": true,
           "showland": true,
           "subunitcolor": "white"
          },
          "hoverlabel": {
           "align": "left"
          },
          "hovermode": "closest",
          "mapbox": {
           "style": "light"
          },
          "paper_bgcolor": "white",
          "plot_bgcolor": "#E5ECF6",
          "polar": {
           "angularaxis": {
            "gridcolor": "white",
            "linecolor": "white",
            "ticks": ""
           },
           "bgcolor": "#E5ECF6",
           "radialaxis": {
            "gridcolor": "white",
            "linecolor": "white",
            "ticks": ""
           }
          },
          "scene": {
           "xaxis": {
            "backgroundcolor": "#E5ECF6",
            "gridcolor": "white",
            "gridwidth": 2,
            "linecolor": "white",
            "showbackground": true,
            "ticks": "",
            "zerolinecolor": "white"
           },
           "yaxis": {
            "backgroundcolor": "#E5ECF6",
            "gridcolor": "white",
            "gridwidth": 2,
            "linecolor": "white",
            "showbackground": true,
            "ticks": "",
            "zerolinecolor": "white"
           },
           "zaxis": {
            "backgroundcolor": "#E5ECF6",
            "gridcolor": "white",
            "gridwidth": 2,
            "linecolor": "white",
            "showbackground": true,
            "ticks": "",
            "zerolinecolor": "white"
           }
          },
          "shapedefaults": {
           "line": {
            "color": "#2a3f5f"
           }
          },
          "ternary": {
           "aaxis": {
            "gridcolor": "white",
            "linecolor": "white",
            "ticks": ""
           },
           "baxis": {
            "gridcolor": "white",
            "linecolor": "white",
            "ticks": ""
           },
           "bgcolor": "#E5ECF6",
           "caxis": {
            "gridcolor": "white",
            "linecolor": "white",
            "ticks": ""
           }
          },
          "title": {
           "x": 0.05
          },
          "xaxis": {
           "automargin": true,
           "gridcolor": "white",
           "linecolor": "white",
           "ticks": "",
           "title": {
            "standoff": 15
           },
           "zerolinecolor": "white",
           "zerolinewidth": 2
          },
          "yaxis": {
           "automargin": true,
           "gridcolor": "white",
           "linecolor": "white",
           "ticks": "",
           "title": {
            "standoff": 15
           },
           "zerolinecolor": "white",
           "zerolinewidth": 2
          }
         }
        },
        "title": {
         "text": "Global Distribution of Gross Enrollment Ratio of Pre-primary school students in 2014"
        }
       }
      },
      "image/png": "[encoded data removed]",
      "text/html": [
       "<div>                            <div id=\"c079a351-a86d-483d-8016-dc5437352377\" class=\"plotly-graph-div\" style=\"height:525px; width:100%;\"></div>            <script type=\"text/javascript\">                require([\"plotly\"], function(Plotly) {                    window.PLOTLYENV=window.PLOTLYENV || {};                                    if (document.getElementById(\"c079a351-a86d-483d-8016-dc5437352377\")) {                    Plotly.newPlot(                        \"c079a351-a86d-483d-8016-dc5437352377\",                        [{\"geo\": \"geo\", \"hovertemplate\": \"<b>%{hovertext}</b><br><br>2014=%{marker.size}<br>Country Code=%{location}<extra></extra>\", \"hovertext\": [\"Arab World\", \"East Asia & Pacific\", \"East Asia & Pacific (excluding high income)\", \"Euro area\", \"Europe & Central Asia\", \"Europe & Central Asia (excluding high income)\", \"European Union\", \"Heavily indebted poor countries (HIPC)\", \"High income\", \"Latin America & Caribbean\", \"Latin America & Caribbean (excluding high income)\", \"Least developed countries: UN classification\", \"Low & middle income\", \"Low income\", \"Lower middle income\", \"Middle East & North Africa\", \"Middle East & North Africa (excluding high income)\", \"Middle income\", \"North America\", \"OECD members\", \"South Asia\", \"Sub-Saharan Africa\", \"Sub-Saharan Africa (excluding high income)\", \"Upper middle income\", \"World\", \"Albania\", \"Antigua and Barbuda\", \"Argentina\", \"Armenia\", \"Aruba\", \"Australia\", \"Austria\", \"Azerbaijan\", \"Bahrain\", \"Barbados\", \"Belarus\", \"Belgium\", \"Belize\", \"Benin\", \"Bermuda\", \"Bhutan\", \"Bolivia\", \"Brazil\", \"British Virgin Islands\", \"Brunei Darussalam\", \"Bulgaria\", \"Burkina Faso\", \"Burundi\", \"Cabo Verde\", \"Cambodia\", \"Cameroon\", \"Chile\", \"China\", \"Comoros\", \"Congo, Dem. Rep.\", \"Costa Rica\", \"Cote d'Ivoire\", \"Croatia\", \"Cuba\", \"Cyprus\", \"Czech Republic\", \"Denmark\", \"Dominica\", \"Dominican Republic\", \"Ecuador\", \"Egypt, Arab Rep.\", \"El Salvador\", \"Eritrea\", \"Ethiopia\", \"Finland\", \"France\", \"Gambia, The\", \"Germany\", \"Ghana\", \"Greece\", \"Grenada\", \"Guatemala\", \"Honduras\", \"Hungary\", \"India\", \"Indonesia\", \"Iran, Islamic Rep.\", \"Ireland\", \"Israel\", \"Italy\", \"Jamaica\", \"Japan\", \"Jordan\", \"Kazakhstan\", \"Kenya\", \"Korea, Rep.\", \"Kyrgyz Republic\", \"Lao PDR\", \"Latvia\", \"Lebanon\", \"Lesotho\", \"Liberia\", \"Liechtenstein\", \"Lithuania\", \"Luxembourg\", \"Macao SAR, China\", \"Macedonia, FYR\", \"Madagascar\", \"Malaysia\", \"Mali\", \"Malta\", \"Mauritania\", \"Mauritius\", \"Mexico\", \"Moldova\", \"Morocco\", \"Myanmar\", \"Nauru\", \"Nepal\", \"Netherlands\", \"New Zealand\", \"Niger\", \"Norway\", \"Oman\", \"Pakistan\", \"Palau\", \"Panama\", \"Peru\", \"Poland\", \"Portugal\", \"Qatar\", \"Romania\", \"Russian Federation\", \"Rwanda\", \"Samoa\", \"Sao Tome and Principe\", \"Saudi Arabia\", \"Senegal\", \"Serbia\", \"Seychelles\", \"Slovak Republic\", \"Slovenia\", \"Solomon Islands\", \"South Africa\", \"Spain\", \"Sri Lanka\", \"St. Kitts and Nevis\", \"St. Lucia\", \"St. Vincent and the Grenadines\", \"Suriname\", \"Sweden\", \"Switzerland\", \"Tanzania\", \"Thailand\", \"Timor-Leste\", \"Togo\", \"Tonga\", \"Tunisia\", \"Turkey\", \"Turkmenistan\", \"Tuvalu\", \"Uganda\", \"United Arab Emirates\", \"United Kingdom\", \"United States\", \"Uruguay\", \"Uzbekistan\", \"Venezuela, RB\", \"Vietnam\", \"West Bank and Gaza\"], \"legendgroup\": \"\", \"locations\": [\"ARB\", \"EAS\", \"EAP\", \"EMU\", \"ECS\", \"ECA\", \"EUU\", \"HPC\", \"HIC\", \"LCN\", \"LAC\", \"LDC\", \"LMY\", \"LIC\", \"LMC\", \"MEA\", \"MNA\", \"MIC\", \"NAC\", \"OED\", \"SAS\", \"SSF\", \"SSA\", \"UMC\", \"WLD\", \"ALB\", \"ATG\", \"ARG\", \"ARM\", \"ABW\", \"AUS\", \"AUT\", \"AZE\", \"BHR\", \"BRB\", \"BLR\", \"BEL\", \"BLZ\", \"BEN\", \"BMU\", \"BTN\", \"BOL\", \"BRA\", \"VGB\", \"BRN\", \"BGR\", \"BFA\", \"BDI\", \"CPV\", \"KHM\", \"CMR\", \"CHL\", \"CHN\", \"COM\", \"COD\", \"CRI\", \"CIV\", \"HRV\", \"CUB\", \"CYP\", \"CZE\", \"DNK\", \"DMA\", \"DOM\", \"ECU\", \"EGY\", \"SLV\", \"ERI\", \"ETH\", \"FIN\", \"FRA\", \"GMB\", \"DEU\", \"GHA\", \"GRC\", \"GRD\", \"GTM\", \"HND\", \"HUN\", \"IND\", \"IDN\", \"IRN\", \"IRL\", \"ISR\", \"ITA\", \"JAM\", \"JPN\", \"JOR\", \"KAZ\", \"KEN\", \"KOR\", \"KGZ\", \"LAO\", \"LVA\", \"LBN\", \"LSO\", \"LBR\", \"LIE\", \"LTU\", \"LUX\", \"MAC\", \"MKD\", \"MDG\", \"MYS\", \"MLI\", \"MLT\", \"MRT\", \"MUS\", \"MEX\", \"MDA\", \"MAR\", \"MMR\", \"NRU\", \"NPL\", \"NLD\", \"NZL\", \"NER\", \"NOR\", \"OMN\", \"PAK\", \"PLW\", \"PAN\", \"PER\", \"POL\", \"PRT\", \"QAT\", \"ROU\", \"RUS\", \"RWA\", \"WSM\", \"STP\", \"SAU\", \"SEN\", \"SRB\", \"SYC\", \"SVK\", \"SVN\", \"SLB\", \"ZAF\", \"ESP\", \"LKA\", \"KNA\", \"LCA\", \"VCT\", \"SUR\", \"SWE\", \"CHE\", \"TZA\", \"THA\", \"TLS\", \"TGO\", \"TON\", \"TUN\", \"TUR\", \"TKM\", \"TUV\", \"UGA\", \"ARE\", \"GBR\", \"USA\", \"URY\", \"UZB\", \"VEN\", \"VNM\", \"PSE\"], \"marker\": {\"color\": \"#636efa\", \"size\": [25.5021495819092, 76.1009292602539, 74.9274673461914, 102.695411682129, 74.5747604370117, 56.1332015991211, 96.5539093017578, 17.9965705871582, 82.71484375, 72.9861831665039, 71.9881591796875, 18.6371994018555, 39.3665313720703, 19.8593101501465, 31.588020324707, 29.8726997375488, 27.5249290466309, 48.1221084594727, 71.6167907714844, 79.3217697143555, 18.1585903167725, 21.8759498596191, 21.8731307983398, 74.3315582275391, 47.6476287841797, 88.558349609375, 75.2154388427734, 72.7539367675781, 49.4239311218262, 107.290077209473, 114.077041625977, 101.721908569336, 23.1055393218994, 57.0258712768555, 84.2060699462891, 105.042762756348, 117.894996643066, 50.2411308288574, 20.6049404144287, 54.2582397460938, 17.0473499298096, 67.5790634155273, 89.1245269775391, 88.6567230224609, 73.538948059082, 83.01318359375, 4.17162990570068, 10.2768697738647, 70.3051071166992, 17.6020908355713, 34.438549041748, 85.6071090698242, 81.6109085083008, 20.5025997161865, 4.1737699508667, 52.9674491882324, 6.55379009246826, 61.4360313415527, 98.0667114257813, 77.1095809936523, 104.818748474121, 96.4470520019531, 84.8765411376953, 43.6002998352051, 62.5482597351074, 30.3224792480469, 71.6827697753906, 14.4669198989868, 25.2382202148438, 79.7871704101563, 108.806732177734, 38.315788269043, 110.875198364258, 115.103607177734, 49.1059913635254, 91.1764678955078, 43.7111282348633, 47.1066207885742, 83.9784622192383, 11.7343502044678, 58.1559600830078, 42.396598815918, 106.676139831543, 110.680152893066, 99.0154800415039, 93.0033874511719, 89.2526779174805, 32.7994384765625, 57.2190895080566, 73.7990417480469, 92.8232803344727, 25.3262100219727, 32.357479095459, 90.9292526245117, 94.8794631958008, 31.1657199859619, 157.901062011719, 105.686546325684, 88.2476425170898, 93.8097381591797, 92.1885833740234, 34.4358215332031, 13.8944997787476, 91.0352478027344, 3.94713997840881, 108.367790222168, 3.31641006469727, 102.228248596191, 68.9582595825195, 83.755012512207, 59.1820983886719, 23.459939956665, 90.1864624023438, 85.7584762573242, 94.8525009155273, 91.8198318481445, 7.12271976470947, 98.2005386352539, 54.4075088500977, 70.2363586425781, 74.0, 48.2903099060059, 87.5540771484375, 79.1850204467773, 91.8200073242188, 56.1875991821289, 90.4568786621094, 83.8059005737305, 15.6980600357056, 36.8708000183105, 42.3095512390137, 16.3314094543457, 14.7231397628784, 59.1646881103516, 93.030403137207, 92.097526550293, 93.4189300537109, 97.9016189575195, 77.3684921264648, 98.0481414794922, 93.6062622070313, 94.1636276245117, 64.7532196044922, 68.8653564453125, 93.6629104614258, 95.6704864501953, 105.105079650879, 32.0149192810059, 72.7883834838867, 17.0231094360352, 15.0401401519775, 38.5375900268555, 42.8046417236328, 26.8257808685303, 62.854419708252, 93.0348281860352, 10.8154802322388, 91.9576721191406, 88.2227096557617, 71.489990234375, 88.4339599609375, 24.7966499328613, 73.0883712768555, 81.3544769287109, 50.652229309082], \"sizemode\": \"area\", \"sizeref\": 0.3947526550292975, \"symbol\": \"circle\"}, \"mode\": \"markers\", \"name\": \"\", \"showlegend\": false, \"type\": \"scattergeo\"}],                        {\"geo\": {\"center\": {}, \"domain\": {\"x\": [0.0, 1.0], \"y\": [0.0, 1.0]}, \"projection\": {\"type\": \"natural earth\"}}, \"legend\": {\"itemsizing\": \"constant\", \"tracegroupgap\": 0}, \"template\": {\"data\": {\"bar\": [{\"error_x\": {\"color\": \"#2a3f5f\"}, \"error_y\": {\"color\": \"#2a3f5f\"}, \"marker\": {\"line\": {\"color\": \"#E5ECF6\", \"width\": 0.5}}, \"type\": \"bar\"}], \"barpolar\": [{\"marker\": {\"line\": {\"color\": \"#E5ECF6\", \"width\": 0.5}}, \"type\": \"barpolar\"}], \"carpet\": [{\"aaxis\": {\"endlinecolor\": \"#2a3f5f\", \"gridcolor\": \"white\", \"linecolor\": \"white\", \"minorgridcolor\": \"white\", \"startlinecolor\": \"#2a3f5f\"}, \"baxis\": {\"endlinecolor\": \"#2a3f5f\", \"gridcolor\": \"white\", \"linecolor\": \"white\", \"minorgridcolor\": \"white\", \"startlinecolor\": \"#2a3f5f\"}, \"type\": \"carpet\"}], \"choropleth\": [{\"colorbar\": {\"outlinewidth\": 0, \"ticks\": \"\"}, \"type\": \"choropleth\"}], \"contour\": [{\"colorbar\": {\"outlinewidth\": 0, \"ticks\": \"\"}, \"colorscale\": [[0.0, \"#0d0887\"], [0.1111111111111111, \"#46039f\"], [0.2222222222222222, \"#7201a8\"], [0.3333333333333333, \"#9c179e\"], [0.4444444444444444, \"#bd3786\"], [0.5555555555555556, \"#d8576b\"], [0.6666666666666666, \"#ed7953\"], [0.7777777777777778, \"#fb9f3a\"], [0.8888888888888888, \"#fdca26\"], [1.0, \"#f0f921\"]], \"type\": \"contour\"}], \"contourcarpet\": [{\"colorbar\": {\"outlinewidth\": 0, \"ticks\": \"\"}, \"type\": \"contourcarpet\"}], \"heatmap\": [{\"colorbar\": {\"outlinewidth\": 0, \"ticks\": \"\"}, \"colorscale\": [[0.0, \"#0d0887\"], [0.1111111111111111, \"#46039f\"], [0.2222222222222222, \"#7201a8\"], [0.3333333333333333, \"#9c179e\"], [0.4444444444444444, \"#bd3786\"], [0.5555555555555556, \"#d8576b\"], [0.6666666666666666, \"#ed7953\"], [0.7777777777777778, \"#fb9f3a\"], [0.8888888888888888, \"#fdca26\"], [1.0, \"#f0f921\"]], \"type\": \"heatmap\"}], \"heatmapgl\": [{\"colorbar\": {\"outlinewidth\": 0, \"ticks\": \"\"}, \"colorscale\": [[0.0, \"#0d0887\"], [0.1111111111111111, \"#46039f\"], [0.2222222222222222, \"#7201a8\"], [0.3333333333333333, \"#9c179e\"], [0.4444444444444444, \"#bd3786\"], [0.5555555555555556, \"#d8576b\"], [0.6666666666666666, \"#ed7953\"], [0.7777777777777778, \"#fb9f3a\"], [0.8888888888888888, \"#fdca26\"], [1.0, \"#f0f921\"]], \"type\": \"heatmapgl\"}], \"histogram\": [{\"marker\": {\"colorbar\": {\"outlinewidth\": 0, \"ticks\": \"\"}}, \"type\": \"histogram\"}], \"histogram2d\": [{\"colorbar\": {\"outlinewidth\": 0, \"ticks\": \"\"}, \"colorscale\": [[0.0, \"#0d0887\"], [0.1111111111111111, \"#46039f\"], [0.2222222222222222, \"#7201a8\"], [0.3333333333333333, \"#9c179e\"], [0.4444444444444444, \"#bd3786\"], [0.5555555555555556, \"#d8576b\"], [0.6666666666666666, \"#ed7953\"], [0.7777777777777778, \"#fb9f3a\"], [0.8888888888888888, \"#fdca26\"], [1.0, \"#f0f921\"]], \"type\": \"histogram2d\"}], \"histogram2dcontour\": [{\"colorbar\": {\"outlinewidth\": 0, \"ticks\": \"\"}, \"colorscale\": [[0.0, \"#0d0887\"], [0.1111111111111111, \"#46039f\"], [0.2222222222222222, \"#7201a8\"], [0.3333333333333333, \"#9c179e\"], [0.4444444444444444, \"#bd3786\"], [0.5555555555555556, \"#d8576b\"], [0.6666666666666666, \"#ed7953\"], [0.7777777777777778, \"#fb9f3a\"], [0.8888888888888888, \"#fdca26\"], [1.0, \"#f0f921\"]], \"type\": \"histogram2dcontour\"}], \"mesh3d\": [{\"colorbar\": {\"outlinewidth\": 0, \"ticks\": \"\"}, \"type\": \"mesh3d\"}], \"parcoords\": [{\"line\": {\"colorbar\": {\"outlinewidth\": 0, \"ticks\": \"\"}}, \"type\": \"parcoords\"}], \"pie\": [{\"automargin\": true, \"type\": \"pie\"}], \"scatter\": [{\"marker\": {\"colorbar\": {\"outlinewidth\": 0, \"ticks\": \"\"}}, \"type\": \"scatter\"}], \"scatter3d\": [{\"line\": {\"colorbar\": {\"outlinewidth\": 0, \"ticks\": \"\"}}, \"marker\": {\"colorbar\": {\"outlinewidth\": 0, \"ticks\": \"\"}}, \"type\": \"scatter3d\"}], \"scattercarpet\": [{\"marker\": {\"colorbar\": {\"outlinewidth\": 0, \"ticks\": \"\"}}, \"type\": \"scattercarpet\"}], \"scattergeo\": [{\"marker\": {\"colorbar\": {\"outlinewidth\": 0, \"ticks\": \"\"}}, \"type\": \"scattergeo\"}], \"scattergl\": [{\"marker\": {\"colorbar\": {\"outlinewidth\": 0, \"ticks\": \"\"}}, \"type\": \"scattergl\"}], \"scattermapbox\": [{\"marker\": {\"colorbar\": {\"outlinewidth\": 0, \"ticks\": \"\"}}, \"type\": \"scattermapbox\"}], \"scatterpolar\": [{\"marker\": {\"colorbar\": {\"outlinewidth\": 0, \"ticks\": \"\"}}, \"type\": \"scatterpolar\"}], \"scatterpolargl\": [{\"marker\": {\"colorbar\": {\"outlinewidth\": 0, \"ticks\": \"\"}}, \"type\": \"scatterpolargl\"}], \"scatterternary\": [{\"marker\": {\"colorbar\": {\"outlinewidth\": 0, \"ticks\": \"\"}}, \"type\": \"scatterternary\"}], \"surface\": [{\"colorbar\": {\"outlinewidth\": 0, \"ticks\": \"\"}, \"colorscale\": [[0.0, \"#0d0887\"], [0.1111111111111111, \"#46039f\"], [0.2222222222222222, \"#7201a8\"], [0.3333333333333333, \"#9c179e\"], [0.4444444444444444, \"#bd3786\"], [0.5555555555555556, \"#d8576b\"], [0.6666666666666666, \"#ed7953\"], [0.7777777777777778, \"#fb9f3a\"], [0.8888888888888888, \"#fdca26\"], [1.0, \"#f0f921\"]], \"type\": \"surface\"}], \"table\": [{\"cells\": {\"fill\": {\"color\": \"#EBF0F8\"}, \"line\": {\"color\": \"white\"}}, \"header\": {\"fill\": {\"color\": \"#C8D4E3\"}, \"line\": {\"color\": \"white\"}}, \"type\": \"table\"}]}, \"layout\": {\"annotationdefaults\": {\"arrowcolor\": \"#2a3f5f\", \"arrowhead\": 0, \"arrowwidth\": 1}, \"autotypenumbers\": \"strict\", \"coloraxis\": {\"colorbar\": {\"outlinewidth\": 0, \"ticks\": \"\"}}, \"colorscale\": {\"diverging\": [[0, \"#8e0152\"], [0.1, \"#c51b7d\"], [0.2, \"#de77ae\"], [0.3, \"#f1b6da\"], [0.4, \"#fde0ef\"], [0.5, \"#f7f7f7\"], [0.6, \"#e6f5d0\"], [0.7, \"#b8e186\"], [0.8, \"#7fbc41\"], [0.9, \"#4d9221\"], [1, \"#276419\"]], \"sequential\": [[0.0, \"#0d0887\"], [0.1111111111111111, \"#46039f\"], [0.2222222222222222, \"#7201a8\"], [0.3333333333333333, \"#9c179e\"], [0.4444444444444444, \"#bd3786\"], [0.5555555555555556, \"#d8576b\"], [0.6666666666666666, \"#ed7953\"], [0.7777777777777778, \"#fb9f3a\"], [0.8888888888888888, \"#fdca26\"], [1.0, \"#f0f921\"]], \"sequentialminus\": [[0.0, \"#0d0887\"], [0.1111111111111111, \"#46039f\"], [0.2222222222222222, \"#7201a8\"], [0.3333333333333333, \"#9c179e\"], [0.4444444444444444, \"#bd3786\"], [0.5555555555555556, \"#d8576b\"], [0.6666666666666666, \"#ed7953\"], [0.7777777777777778, \"#fb9f3a\"], [0.8888888888888888, \"#fdca26\"], [1.0, \"#f0f921\"]]}, \"colorway\": [\"#636efa\", \"#EF553B\", \"#00cc96\", \"#ab63fa\", \"#FFA15A\", \"#19d3f3\", \"#FF6692\", \"#B6E880\", \"#FF97FF\", \"#FECB52\"], \"font\": {\"color\": \"#2a3f5f\"}, \"geo\": {\"bgcolor\": \"white\", \"lakecolor\": \"white\", \"landcolor\": \"#E5ECF6\", \"showlakes\": true, \"showland\": true, \"subunitcolor\": \"white\"}, \"hoverlabel\": {\"align\": \"left\"}, \"hovermode\": \"closest\", \"mapbox\": {\"style\": \"light\"}, \"paper_bgcolor\": \"white\", \"plot_bgcolor\": \"#E5ECF6\", \"polar\": {\"angularaxis\": {\"gridcolor\": \"white\", \"linecolor\": \"white\", \"ticks\": \"\"}, \"bgcolor\": \"#E5ECF6\", \"radialaxis\": {\"gridcolor\": \"white\", \"linecolor\": \"white\", \"ticks\": \"\"}}, \"scene\": {\"xaxis\": {\"backgroundcolor\": \"#E5ECF6\", \"gridcolor\": \"white\", \"gridwidth\": 2, \"linecolor\": \"white\", \"showbackground\": true, \"ticks\": \"\", \"zerolinecolor\": \"white\"}, \"yaxis\": {\"backgroundcolor\": \"#E5ECF6\", \"gridcolor\": \"white\", \"gridwidth\": 2, \"linecolor\": \"white\", \"showbackground\": true, \"ticks\": \"\", \"zerolinecolor\": \"white\"}, \"zaxis\": {\"backgroundcolor\": \"#E5ECF6\", \"gridcolor\": \"white\", \"gridwidth\": 2, \"linecolor\": \"white\", \"showbackground\": true, \"ticks\": \"\", \"zerolinecolor\": \"white\"}}, \"shapedefaults\": {\"line\": {\"color\": \"#2a3f5f\"}}, \"ternary\": {\"aaxis\": {\"gridcolor\": \"white\", \"linecolor\": \"white\", \"ticks\": \"\"}, \"baxis\": {\"gridcolor\": \"white\", \"linecolor\": \"white\", \"ticks\": \"\"}, \"bgcolor\": \"#E5ECF6\", \"caxis\": {\"gridcolor\": \"white\", \"linecolor\": \"white\", \"ticks\": \"\"}}, \"title\": {\"x\": 0.05}, \"xaxis\": {\"automargin\": true, \"gridcolor\": \"white\", \"linecolor\": \"white\", \"ticks\": \"\", \"title\": {\"standoff\": 15}, \"zerolinecolor\": \"white\", \"zerolinewidth\": 2}, \"yaxis\": {\"automargin\": true, \"gridcolor\": \"white\", \"linecolor\": \"white\", \"ticks\": \"\", \"title\": {\"standoff\": 15}, \"zerolinecolor\": \"white\", \"zerolinewidth\": 2}}}, \"title\": {\"text\": \"Global Distribution of Gross Enrollment Ratio of Pre-primary school students in 2014\"}},                        {\"responsive\": true}                    ).then(function(){\n",
       "                            \n",
       "var gd = document.getElementById('c079a351-a86d-483d-8016-dc5437352377');\n",
       "var x = new MutationObserver(function (mutations, observer) {{\n",
       "        var display = window.getComputedStyle(gd).display;\n",
       "        if (!display || display === 'none') {{\n",
       "            console.log([gd, 'removed!']);\n",
       "            Plotly.purge(gd);\n",
       "            observer.disconnect();\n",
       "        }}\n",
       "}});\n",
       "\n",
       "// Listen for the removal of the full notebook cells\n",
       "var notebookContainer = gd.closest('#notebook-container');\n",
       "if (notebookContainer) {{\n",
       "    x.observe(notebookContainer, {childList: true});\n",
       "}}\n",
       "\n",
       "// Listen for the clearing of the current output cell\n",
       "var outputEl = gd.closest('.output');\n",
       "if (outputEl) {{\n",
       "    x.observe(outputEl, {childList: true});\n",
       "}}\n",
       "\n",
       "                        })                };                });            </script>        </div>"
      ]
     },
     "metadata": {},
     "output_type": "display_data"
    }
   ],
   "source": [
    "fig = px.scatter_geo(dfns_nona, locations=\"Country Code\", \n",
    "                     size=\"2014\", # size of markers, \"pop\" is one of the columns of gapminder\n",
    "                     hover_name=\"Country Name\", # column added to hover information\n",
    "                     projection=\"natural earth\",\n",
    "                     title=\"Global Distribution of Gross Enrollment Ratio of Pre-primary school students in 2014\")\n",
    "fig.show()\n",
    "# fig.write_image(\"./Images/fig1.png\")\n",
    "# plt.io.orca.config.save()"
   ]
  },
  {
   "cell_type": "code",
   "execution_count": null,
   "id": "2853d3ab-d024-4a82-99e6-86ac90cc3fd3",
   "metadata": {},
   "outputs": [],
   "source": []
  },
  {
   "cell_type": "code",
   "execution_count": null,
   "id": "b1f1e3a5-944e-436e-9d5c-51bccc6324ee",
   "metadata": {},
   "outputs": [],
   "source": []
  }
 ],
 "metadata": {
  "kernelspec": {
   "display_name": "Python 3",
   "language": "python",
   "name": "python3"
  },
  "language_info": {
   "codemirror_mode": {
    "name": "ipython",
    "version": 3
   },
   "file_extension": ".py",
   "mimetype": "text/x-python",
   "name": "python",
   "nbconvert_exporter": "python",
   "pygments_lexer": "ipython3",
   "version": "3.8.8"
  }
 },
 "nbformat": 4,
 "nbformat_minor": 5
}
