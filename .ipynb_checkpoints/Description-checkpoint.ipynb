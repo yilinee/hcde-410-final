{
 "cells": [
  {
   "cell_type": "markdown",
   "id": "57e974ac-9e52-41c1-9d25-7e9c935e653d",
   "metadata": {},
   "source": [
    "# Motivation and Problem Statement\n",
    "I plan to do a human-centered data science project to understand how pre-primary education (i.e., early childhood educational practices for children from three to six years old before the official entry into primary school) statistics differ around the world, and what may be correlation with the differences in the variation.\n",
    "\n",
    "While education has been an important cultural component for many countries to equip the younger generations with knowledge and skills to learn and adapt in the world, the access and progression to education are unequal. According to [The United Nations Children's Fund (UNICEF)](https://www.unicef.org/education/early-childhood-education), quality pre-primary education matters to every child, because it 1) sets strong foundation for one's learning, 2) helps make education systems more effective and efficient, and 3) serves as an effective strategy to promote economic growth. However, pre-primary education inequality persists around the globe; nearly 50% of all pre-primary-age children are not enrolled in any form of the program. Therefore, it is crucial to critically examine the differences of resources and consider factors that cause or are correlated to different pre-primary programs globally. \n",
    "\n",
    "By working on this data science project, I hope to learn to think critically and reflect ethically on issues and challenges around global education and utilize the skills I have learned in this course to interpret the findings from my data analysis to highlight interesting, concerning, and/or confusing patterns I have discovered in the data.\n",
    "\n",
    "# Data Selected for Analysis\n",
    "I plan to use the dataset called “Global Education Statistics\", which contains more than 4,000 indicators variables comparing education statistics (EdStats) including literacy, population, and expenditures over 200 countries. I choose to work on this dataset because 1) it is provided by [Word Bank Group](https://www.worldbank.org/en/home), an international financial organization with high authority; 2) the coverage of data can be traced back to the 1970s, and the quarterly update frequency has been consistent; 3) more than 4,000 indicators holds data from international and regional learning assessments, equity data from household surveys, data from educational attainment projections, and much more, which cover the full educational cycle from pre-elementary to vocational education.\n",
    "- Published data: https://datacatalog.worldbank.org/dataset/education-statistics\n",
    "- API: https://datahelpdesk.worldbank.org/knowledgebase/topics/125589\n",
    "- License: This dataset is classified as Public under the Access to Information Classification Policy. Users inside and outside the World Bank organization can access this dataset. View the CC-BY license [here] (https://datacatalog.worldbank.org/public-licenses#cc-by).\n",
    "\n",
    "This dataset is suitable for my research goal as it is not only is it a long dataset but it is also a wide one published by a non-profit organization with authority and public recognizability. I will be able to not only focus on the indicator of pre-primary enrollment rates but also other relevant indicators related to information about pre-primary teachers and governmental expenditure on pre-primary educational resources; as such, my point of view will not be limited to unitary factors. By understanding the global pre-primary educational gaps, I aim to highlight some human-centered educational challenges and raise public awareness on relevant topics. \n",
    "\n",
    "Some ethical considerations include: 1) before data analysis, there may exist sampling biases and other types of biases in the original dataset that could skew the results; 2) when performing data analysis, my choices of data wrangling matter (e.g., what columns to keep and rows to delete), which I need to explain clearly of any decisions I will be making; 3) after performing data analysis, I am not familiar of the history and culture of most of the countries, therefore resulting in misunderstanding and misinterpretation of certain patterns, trends, or correlations in the data. \n",
    "\n",
    "# Unknowns and Dependencies\n",
    "Technical unknowns include: 1) the dataset may be updated during the time of my analysis and before my final submission, which could result in inconsistencies between my presentation and the new dataset; 2) though unlikely, the link to access the dataset may become invalid or inaccessible at any time. \n",
    "\n",
    "I have to also be mindful of the time constraints. Dealing with such a big dataset, I need to carefully plan the scope of my analysis and focus on specific research directions and questions, so the findings and results presentation will not be vague or too lengthy."
   ]
  },
  {
   "cell_type": "markdown",
   "id": "0c87e2e1-a0d7-4bcb-b5b9-724ac5ac53e8",
   "metadata": {},
   "source": [
    "# Research Questions\n",
    "- Q1: How do countries vary in their net enrollment rates of pre-primary school children in a recent year?\n",
    "- Q2: How do the countries of interest, as selected from the previous question, vary in their pre-primary educational indicators statistics?\n",
    "- Further Thoughts: How do those selected indicators correlate, via linear or non-linear relationships?\n",
    "\n",
    "# Related Work\n",
    "Four summative reports provided by U.S. Department of Education, National Center for Education Statistics from statistics collected and analyzed in the U.S. and other nations in [2016](https://nces.ed.gov/fastfacts/display.asp?id=4), [2018](https://nces.ed.gov/fastfacts/display.asp?id=56), [2019](https://nces.ed.gov/fastfacts/display.asp?id=90), and [2020](https://nces.ed.gov/fastfacts/display.asp?id=516) showed that 1) the percentage of children who were enrolled and attended full-day preschool/kindergarten early childhood educational programs increased from 47%/60% in 2000 to 54%/81% in 2018, respectively; 2) more than 50% of surveyed children aged between 4 and 5 being surveyed had center-based care as their primary pre-primary educational programs, followed by home-based and no pre-primary educational care; 3) children who received center-based care performed better in academic skills and learning behaviors at the beginning of kindergarten; 4) more families, especially White and Asian/Pacific Islander parents, started to engage themselves in informal home literacy experiences, such as reading, telling stories, teaching letters/words/numbers, or visiting a library, to promote literacy development of their children; and 5) average mathematics and reading scores of first-time kindergartners were higher for White and Asian children, and such gap persisted among fifth-graders. Though prior research has focused extensively on pre-primary impacts on children' learning capacity and compositions (i.e., mostly racial/ethnic and socio-economic status compositions) of children in pre-primary educational programs, few had examined and compared the national patterns of pre-primary education on a macro-level scale and via a human-centered data science perspective, incorporating the economic/political/cultural characteristics of different countries to understand not only the statistical but also the ethical and humanitarian differences and similarities in the pre-primary educational data around the globe.\n",
    "\n",
    "# Methodology\n",
    "### Data wrangling\n",
    "1. For the discovery phase, I will first skim through the first 100 rows of the original data and its supplementary data to understand the basic context. \n",
    "2. Next, I plan to restructure the data, only using a subset of the data for the analysis. All indicators related to pre-primary education will be selected and applied to 216 countries in the years of 21th century. (Specifically, from year 2000 to year 2014.) \n",
    "3. I will then clean the data by deleting empty values, removing outliers, and standardizing inputs.\n",
    "4. I will compare the content within the clean version of the dataset with other metadata collected by the World Bank Group which focus on the economics and cultural statistics of individual countries. \n",
    "\n",
    "Via data wrangling, I will be able to familiarize myself with the patterns in the original dataset and the context of the dataset, exclude or solve any errors in the data, and enrich the data with values from other datasets.\n",
    "\n",
    "### Data analysis\n",
    "The indicators which I will be use in this project may include (but are not limited to) the following: 1) enrollment rates (combining sexes and genders, types of institutions and programs, 2) population of the official age for pre-primary education, 3) qualified or trained teacher ratio in pre-primary education, 4) Government expenditure on pre-primary education as % of GDP, and 5) expenditure on pre-primary as % of total government expenditure.\n",
    "\n",
    "- Q1: I will generate a geographic map plot using Plotly (or preferably interactive maps with tooltips showing additional information of each country of interest). This step of analysis will help me to understand, on a *micro-level*, how enrollment rates of pre-primary education, which is my primary indicator to focus on, vary among different countries. \n",
    "- Q2: Based on the previous step of data visualization, I will select five representative countries and perform further quantitative and qualitative analysis to compare the four indicators (as listed in the above paragraph) after combining with information from other metadata collected by the World Bank Group about the economics, historical, and cultural factors about these five countries, so to understand how *macro-level* contexts of countries affect enrollment rates of pre-primary school education. \n",
    "\n",
    "### Data presentation\n",
    "I will present the data visualizations in PNG format, along with supplementary writen explanations to support the images with more details. I will also use tables and bullet points during the report to give summative information about the source and analysis of the data in this report."
   ]
  },
  {
   "cell_type": "markdown",
   "id": "611599e8-ac9c-4242-8a0e-e416316179e1",
   "metadata": {},
   "source": [
    "# Findings\n",
    "- Q1: Based on the map, we can find that the main clusters where data are available are among European countries, countries near the Caribbean Sea, and South American countries. It can be inferred that the net enrollment rate of pre-primary education is correlated to the income of a country (i.e., whether the country is in the category of high income, upper middle income, lower middle income, or low income, as specified by the World Bank Group) or the location of a country. Based on the tables, we can see that among the 10 most rated countries, half (i.e., Belarus, Belgium, Norway, Sweden, and Ghana) show significant increase in the net enrollment rate of pre-primary education in the 21st century. Most of these countries, which have significant increase of net enrollment rate, are European countries. For the rest of the country on the most rated list, some have fluctuating data and others have missing data for the majority of the years. Among the 10 least rated countries, most have missing data for the majority of the years. Eritrea, Madagascar, and Senegal have the most complete data and show significant increase in the net enrollment rate of pre-primary education in the 21st century. Among all countries in this least rated list which contain data in two or more year, only Burundi shows a decrease in the net enrollment rate of pre-primary education. \n",
    "- Q2: Based on the graph and the tables, we can conclude that Belarus has the sharpest difference, and is the country that increases the fastest in its net enrollment rate of pre-primary education. Senegal also has a sharp difference in its rate, and the rate has increased over the decades. Belgium's net enrollment rate o pre-primary education has been stable, and Eritrea's rate has also been relevantly stable from year 2006 to year 2012. Cuba's rate has undergone a continuous drop from year 2009 to year 2011. We can infer that educational policies may change due to the change of governments and public views and values on pre-primary education, which reflect the fluctuations in net enrollment rates. Still, in general, the countries which we have analyzed are all paying more attention to pre-primary education in the 21st century.\n",
    "\n",
    "To read the complete findings, please go to the file \"Analysis.ipynb\" under the same folder in this document. "
   ]
  },
  {
   "cell_type": "markdown",
   "id": "2c99255c-6f5e-4781-8693-22e0d59bac4d",
   "metadata": {},
   "source": [
    "# Discussions and Conclusions\n",
    "This project takes a human-centered data scientific approach to examine an educational dataset about pre-primary education. The indicators of interest span over the educational statistical data categories including enrollment rates, learning outcomes, and education system. The original dataset also contains categories relevant to pre-primary education including attendance rates, out-of-school, school life expectancy, and much more. All the relevant indicators are able to offer rich insights to help understand the current and past environment which countries have been providing to young children and their families to obtain quality pre-primary education and support the future growth and learning of these children. \n",
    "\n",
    "The project shows that countries from certain part of the world have been paying attentions to pre-primary education. It also shows that most countries show relevant growth pre-primary educational indicators, such as net enrollment rate, which indicate that these countries are increasing their attentions to the young children and the pre-primary education. I encourage countries who have not been collecting data relevant to pre-primary education to start to track their progress towards more accessible pre-primary education. It is a promising space for data practitioners to connect to other topics, such as child mortality, child protection and development, child poverty, demography, disease and immunization, early education, gender equality, maternal/child and newborn health, family migration, etc."
   ]
  },
  {
   "cell_type": "code",
   "execution_count": null,
   "id": "4d838a06-9b9c-4130-ba75-19a6ee173cfe",
   "metadata": {},
   "outputs": [],
   "source": []
  }
 ],
 "metadata": {
  "kernelspec": {
   "display_name": "Python 3",
   "language": "python",
   "name": "python3"
  },
  "language_info": {
   "codemirror_mode": {
    "name": "ipython",
    "version": 3
   },
   "file_extension": ".py",
   "mimetype": "text/x-python",
   "name": "python",
   "nbconvert_exporter": "python",
   "pygments_lexer": "ipython3",
   "version": "3.8.8"
  }
 },
 "nbformat": 4,
 "nbformat_minor": 5
}
